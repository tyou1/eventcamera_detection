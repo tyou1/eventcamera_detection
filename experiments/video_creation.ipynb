{
 "cells": [
  {
   "cell_type": "code",
   "execution_count": 2,
   "metadata": {},
   "outputs": [
    {
     "name": "stdout",
     "output_type": "stream",
     "text": [
      "Video created successfully.\n"
     ]
    }
   ],
   "source": [
    "import cv2\n",
    "import os\n",
    "\n",
    "# Directory containing frames\n",
    "frames_dir = 'effdet3_results'\n",
    "\n",
    "# Output video file name\n",
    "output_video = 'EventCamera_detection_effdet3.mp4'\n",
    "\n",
    "# Function to get the list of frames\n",
    "def get_frame_list(frames_dir):\n",
    "    frame_files = sorted(os.listdir(frames_dir))\n",
    "    frame_list = [os.path.join(frames_dir, f) for f in frame_files]\n",
    "    return frame_list\n",
    "\n",
    "# Get the frame list\n",
    "frame_list = get_frame_list(frames_dir)\n",
    "\n",
    "# Get the first frame to extract frame size\n",
    "first_frame = cv2.imread(frame_list[0])\n",
    "frame_height, frame_width, _ = first_frame.shape\n",
    "\n",
    "# Define the codec and create VideoWriter object\n",
    "fourcc = cv2.VideoWriter_fourcc(*'mp4v')\n",
    "out = cv2.VideoWriter(output_video, fourcc, 10.0, (frame_width, frame_height))\n",
    "\n",
    "# Write frames to video\n",
    "for frame_file in frame_list:\n",
    "    frame = cv2.imread(frame_file)\n",
    "    out.write(frame)\n",
    "\n",
    "# Release VideoWriter\n",
    "out.release()\n",
    "\n",
    "print(\"Video created successfully.\")\n"
   ]
  }
 ],
 "metadata": {
  "kernelspec": {
   "display_name": "base",
   "language": "python",
   "name": "python3"
  },
  "language_info": {
   "codemirror_mode": {
    "name": "ipython",
    "version": 3
   },
   "file_extension": ".py",
   "mimetype": "text/x-python",
   "name": "python",
   "nbconvert_exporter": "python",
   "pygments_lexer": "ipython3",
   "version": "3.10.9"
  },
  "orig_nbformat": 4
 },
 "nbformat": 4,
 "nbformat_minor": 2
}
